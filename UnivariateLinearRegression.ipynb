import numpy as np
import pandas as pd
import matplotlib.pyplot as plt

data=pd.read_csv('Housing.csv')
data_array=data.to_numpy()
x_train,y_train=data_array[:,1:2],data_array[:,:1]

def normalize(data):
    min_val = np.min(data)
    max_val = np.max(data)
    normalized_data = (data - min_val) / (max_val - min_val)
    return normalized_data
x_train=normalize(x_train)

y_train=normalize(y_train)
w=0
b=0
L=0.02
costl=[]
def gradient(x_train,y_train,w,b,L):
    ws=0
    wb=0
    cost=0
    for i in range(len(x_train)):
        pred=((x_train[i]*w)+b)-y_train[i]
        cost+=1/len(x_train)*(pred**2)
        ws+=1/len(x_train)*((pred)*x_train[i])
        wb+=1/len(x_train)*(pred)
    w-=L*ws
    b-=L*wb
    return w,b,cost
iterations=1000
for epoch in range(iterations):
    w,b,cost=gradient(x_train,y_train,w,b,L)
    costl.append(cost)
    if epoch%100==0:
        print('epoch= ',epoch , 'cost= ',cost)
plt.plot(range(len(costl)),costl)
plt.show()
